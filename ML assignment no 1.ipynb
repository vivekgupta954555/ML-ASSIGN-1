{
 "cells": [
  {
   "cell_type": "code",
   "execution_count": null,
   "id": "0e7859c1-18c7-4f85-835c-55b28935f05a",
   "metadata": {},
   "outputs": [],
   "source": [
    "ques no 1"
   ]
  },
  {
   "cell_type": "code",
   "execution_count": null,
   "id": "12425dee-ca3b-4188-8d13-922cb058e633",
   "metadata": {},
   "outputs": [],
   "source": [
    "AI\n",
    "Artificial intelligence (AI) is a wide-ranging branch of computer science that deal\n",
    "with building smart machins that is  capable of performing tasks that typically\n",
    "require human intelligence\n",
    "ML\n",
    "machine learning ia an ai technique that teaches the computer that learn from experience\n",
    "DL\n",
    "Deep learning is a subset of machine learning, which is essentially a neural network with three or more \n",
    "layers.\n",
    "These neural networks attempt to mimics the behavior of the human brain"
   ]
  },
  {
   "cell_type": "code",
   "execution_count": null,
   "id": "6a2c6171-23a0-487b-ba80-ea3af85cb007",
   "metadata": {},
   "outputs": [],
   "source": [
    "ques no 2"
   ]
  },
  {
   "cell_type": "code",
   "execution_count": null,
   "id": "aec7158e-c156-49fa-abd9-aae0647f8869",
   "metadata": {},
   "outputs": [],
   "source": [
    "Supervised learning, also known as supervised machine learning, is a subcategory of machine learning and \n",
    "artificial intelligence. It is defined by its use of labeled data sets to train algorithms that to classify \n",
    "data or predict outcomes accurately.\n",
    "example are spam detection"
   ]
  },
  {
   "cell_type": "code",
   "execution_count": null,
   "id": "a5c51348-2e1f-4438-abc1-cdcdc02af9d3",
   "metadata": {},
   "outputs": [],
   "source": [
    "ques no 3"
   ]
  },
  {
   "cell_type": "code",
   "execution_count": null,
   "id": "e3acf066-83d7-419e-8f5c-f829b89f135a",
   "metadata": {},
   "outputs": [],
   "source": [
    "Unsupervised learning, also known as unsupervised machine learning, uses machine learning algorithms to\n",
    "analyze and cluster unlabeled datasets. These algorithms discover hidden patterns or data groupings without\n",
    "the need for human intervention.\n",
    "example are data clustering and reduction"
   ]
  },
  {
   "cell_type": "code",
   "execution_count": null,
   "id": "ee0495a7-c106-4699-87e1-511037de9a80",
   "metadata": {},
   "outputs": [],
   "source": [
    "ques no 4"
   ]
  },
  {
   "cell_type": "code",
   "execution_count": null,
   "id": "7ab4fce7-e827-4d76-b536-429c73675f67",
   "metadata": {},
   "outputs": [],
   "source": [
    "AI\n",
    "Artificial Intelligence (AI) enables machines to think by understanding, learning from the data, and taking \n",
    "decisions based on patterns hidden in the data or make inferences that would otherwise be very difficult\n",
    "for humans to make manually. The end goal of using ML or DL is to create an AI application or machine as\n",
    "smart as human\n",
    "ML\n",
    "Machine Learning (ML) is a subset of AI; it provides us statistical tools like Supervised,\n",
    "Unsupervised, and Reinforcement learning to explore and analyze the data.\n",
    "DL\n",
    "Deep Learning (DL) is further a subset of ML, and the main idea behind it is to make machines learn by\n",
    "mimicking the human brain. Here, we create a multi neural network architecture with the help of different\n",
    "techniques like ANN, CNN, and RNN.\n",
    "DS\n",
    "Data Science (DS) is basically drawing insights from structured and unstructured data either by using ML or\n",
    "DL or without these techniques. We can even use different visualization tools, statistics, and probability\n",
    "to gain these insights.\n",
    "\n",
    "\n"
   ]
  },
  {
   "cell_type": "code",
   "execution_count": null,
   "id": "b025eaf1-37d0-4e90-9575-49cf0c81e483",
   "metadata": {},
   "outputs": [],
   "source": [
    "ques no 5"
   ]
  },
  {
   "cell_type": "code",
   "execution_count": null,
   "id": "38ea6408-59f2-4cce-a8d0-66ac1b6bdb5c",
   "metadata": {},
   "outputs": [],
   "source": [
    "superwised learning uses the labeled data\n",
    "unsuperwised learning uses the unlabelled data\n",
    "semi- superwised used both the labeled and unlabelled data"
   ]
  },
  {
   "cell_type": "code",
   "execution_count": null,
   "id": "414affea-99c7-4165-ac53-a9f34669d298",
   "metadata": {},
   "outputs": [],
   "source": [
    "ques no 6"
   ]
  },
  {
   "cell_type": "code",
   "execution_count": null,
   "id": "800dda37-c137-4f61-84fe-64173f2efa1b",
   "metadata": {},
   "outputs": [],
   "source": [
    "TRAINIING  dataset\n",
    "the training set is the largest corpus of your dataset that you reserve for training your model.\n",
    "After training, inference on these images will be taken with a grain of salt, since the model has already\n",
    "had a chance to look at and memorize the correct output.\n",
    "VALIDATION data set\n",
    "The validation set is a separate section of your dataset that you will use during training to get a sense\n",
    "of how well your model is doing on images that are not being used in training.\n",
    "TEST dataset\n",
    "\n",
    "After all of the training experiments have concluded, you probably have gotten a sense on how your model\n",
    "might do on the validation set"
   ]
  },
  {
   "cell_type": "code",
   "execution_count": null,
   "id": "c8b253d9-04ea-436d-a0fd-0c73fb5a6db0",
   "metadata": {},
   "outputs": [],
   "source": [
    "ques no 7"
   ]
  },
  {
   "cell_type": "code",
   "execution_count": null,
   "id": "2cd14cfb-2186-4e49-9c44-532714a4f3c8",
   "metadata": {},
   "outputs": [],
   "source": [
    "Unsupervised learning is a type of machine learning that does not rely on labeled data to find patterns \n",
    "or clusters in the data. One of the applications of unsupervised learning is anomaly detection, which is \n",
    "the task of identifying outliers or abnormal instances in the data.\n"
   ]
  },
  {
   "cell_type": "code",
   "execution_count": null,
   "id": "04622627-49eb-401e-996e-ed835868409d",
   "metadata": {},
   "outputs": [],
   "source": [
    "ques no 8"
   ]
  },
  {
   "cell_type": "code",
   "execution_count": null,
   "id": "338ef6c1-fac0-4302-a871-58e687814de2",
   "metadata": {},
   "outputs": [],
   "source": [
    " unsupervised learning include: (1) Clustering,\n",
    "(2) Anomaly detection, (3) Approaches for \n",
    "learning latent variable models.\n",
    "superwised learning ex are included decision making tree"
   ]
  },
  {
   "cell_type": "code",
   "execution_count": null,
   "id": "11ae1018-ca4a-4cab-afec-e2df09f0b056",
   "metadata": {},
   "outputs": [],
   "source": []
  }
 ],
 "metadata": {
  "kernelspec": {
   "display_name": "Python 3 (ipykernel)",
   "language": "python",
   "name": "python3"
  },
  "language_info": {
   "codemirror_mode": {
    "name": "ipython",
    "version": 3
   },
   "file_extension": ".py",
   "mimetype": "text/x-python",
   "name": "python",
   "nbconvert_exporter": "python",
   "pygments_lexer": "ipython3",
   "version": "3.10.8"
  }
 },
 "nbformat": 4,
 "nbformat_minor": 5
}
