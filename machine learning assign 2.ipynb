{
 "cells": [
  {
   "cell_type": "raw",
   "id": "1ea7abad-bed7-4c3a-bf0e-7299602cad21",
   "metadata": {},
   "source": [
    "QUES NO 1"
   ]
  },
  {
   "cell_type": "code",
   "execution_count": null,
   "id": "f070df11-2d38-4683-b181-e868deab21ad",
   "metadata": {},
   "outputs": [],
   "source": [
    "OVERFITTING \n",
    "overfitting is a condition in which during the training the data is performed with good  accuracy but when \n",
    "it comes for the tested then its accuracy is decrease \n",
    "in another word we can say that model making is coorect but it done the wrong pridiction\n",
    "UNDERFITTING\n",
    "underfitting is a condition in which the data is performed not very well during the training but it perform \n",
    "very well during the testing\n",
    "in another word we can define as the data model is unable to capture the relationship b/w  input and output\n",
    "variable and create the large error b/t the training dataset and unseen data\n",
    "\n",
    "#we can deal with the underfitting training data.\n",
    "increase model complexity.\n",
    "Increase the number of features, performing feature engineering.\n",
    "Remove noise from the data.\n",
    "Increase the number of epochs or increase the duration of training to get better results.\n",
    "# we  can deal with the overfitting by these ways\n",
    "increase training data.\n",
    "Reduce model complexity.\n",
    "Early stopping during the training phase (have an eye over the loss over the training period as \n",
    "soon as loss begins to increase stop training).\n",
    "Ridge Regularization and Lasso Regularization.\n",
    "Use dropout for neural networks to tackle overfitting.\n"
   ]
  },
  {
   "cell_type": "raw",
   "id": "1cb048f1-951c-4c45-b857-3f88c6710616",
   "metadata": {},
   "source": [
    "QUES NO 2"
   ]
  },
  {
   "cell_type": "code",
   "execution_count": null,
   "id": "839e60b3-c26c-41f0-ba08-819bab02575f",
   "metadata": {},
   "outputs": [],
   "source": [
    "\n",
    "1 : Early stopping\n",
    "\n",
    "Early stopping pauses the training phase before the machine learning model learns the noise in the data\n",
    "However getting the timing right is important else the model will still not give accurate results.\n",
    "2 : Pruning \n",
    "\n",
    "it help us to identify the most important feature in the training set and eliminating the irrelivent ones \n",
    "as it help in the prediction accurate final outcome from model\n",
    "3 : Regularisation \n",
    "\n",
    "there are number of the training of dataset are occoured to reduce overfitting that means that it try to\n",
    "remove to those factor which does not impact the prediction outcome by grading the by grading\n",
    "features based on importance \n"
   ]
  },
  {
   "cell_type": "code",
   "execution_count": null,
   "id": "3528f673-65e7-4cb4-9a03-6720190b1a85",
   "metadata": {},
   "outputs": [],
   "source": [
    "QUES NO 3"
   ]
  },
  {
   "cell_type": "code",
   "execution_count": null,
   "id": "82ba6c1b-74f9-4ba1-9c36-1466f31a72c7",
   "metadata": {},
   "outputs": [],
   "source": [
    "1\n",
    "High bias and low variance.\n",
    "2\n",
    "The size of the training dataset used is not enough.\n",
    "3\n",
    "The model is too simple.\n",
    "4\n",
    "Training data is not cleaned and also contains noise in it.\n"
   ]
  },
  {
   "cell_type": "code",
   "execution_count": null,
   "id": "365fb84d-3780-494b-9444-6f5d777e14fc",
   "metadata": {},
   "outputs": [],
   "source": [
    "QUES NO 4\n",
    "\n",
    "\n",
    "Bias is the difference between the average prediction of our model and the correct value which we are\n",
    "trying to predict\n"
   ]
  }
 ],
 "metadata": {
  "kernelspec": {
   "display_name": "Python 3 (ipykernel)",
   "language": "python",
   "name": "python3"
  },
  "language_info": {
   "codemirror_mode": {
    "name": "ipython",
    "version": 3
   },
   "file_extension": ".py",
   "mimetype": "text/x-python",
   "name": "python",
   "nbconvert_exporter": "python",
   "pygments_lexer": "ipython3",
   "version": "3.10.8"
  }
 },
 "nbformat": 4,
 "nbformat_minor": 5
}
